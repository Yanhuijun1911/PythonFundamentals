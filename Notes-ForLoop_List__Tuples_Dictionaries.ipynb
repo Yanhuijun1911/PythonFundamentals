{
  "nbformat": 4,
  "nbformat_minor": 0,
  "metadata": {
    "colab": {
      "name": "ForLoop_List _Tuples_Dictionaries.ipynb",
      "provenance": [],
      "collapsed_sections": [],
      "authorship_tag": "ABX9TyOeupoWDGMwTgwIw0fWhLLN",
      "include_colab_link": true
    },
    "kernelspec": {
      "name": "python3",
      "display_name": "Python 3"
    },
    "language_info": {
      "name": "python"
    }
  },
  "cells": [
    {
      "cell_type": "markdown",
      "metadata": {
        "id": "view-in-github",
        "colab_type": "text"
      },
      "source": [
        "<a href=\"https://colab.research.google.com/github/Yanhuijun1911/PythonFundamentals/blob/main/Notes-ForLoop_List__Tuples_Dictionaries.ipynb\" target=\"_parent\"><img src=\"https://colab.research.google.com/assets/colab-badge.svg\" alt=\"Open In Colab\"/></a>"
      ]
    },
    {
      "cell_type": "markdown",
      "source": [
        "#For Loop\n"
      ],
      "metadata": {
        "id": "3LI_n9jZZW0s"
      }
    },
    {
      "cell_type": "code",
      "source": [
        "for i in range(10):  #i means index\n",
        "  \n",
        "  print(i,\"hello\")\n",
        "  print(\"--==0=9==9\")  #this also will loop 10 times\n",
        "\n",
        "  \n",
        "\n",
        "\n",
        "\n",
        "\n",
        "\n"
      ],
      "metadata": {
        "colab": {
          "base_uri": "https://localhost:8080/"
        },
        "id": "DHE6ZRVrZaC2",
        "outputId": "e1245d45-73c2-4525-8461-c31a321e382c"
      },
      "execution_count": 26,
      "outputs": [
        {
          "output_type": "stream",
          "name": "stdout",
          "text": [
            "0 hello\n",
            "--==0=9==9\n",
            "1 hello\n",
            "--==0=9==9\n",
            "2 hello\n",
            "--==0=9==9\n",
            "3 hello\n",
            "--==0=9==9\n",
            "4 hello\n",
            "--==0=9==9\n",
            "5 hello\n",
            "--==0=9==9\n",
            "6 hello\n",
            "--==0=9==9\n",
            "7 hello\n",
            "--==0=9==9\n",
            "8 hello\n",
            "--==0=9==9\n",
            "9 hello\n",
            "--==0=9==9\n"
          ]
        }
      ]
    },
    {
      "cell_type": "code",
      "source": [
        "for i in range(10):  \n",
        "  \n",
        "  print(i+1,\"hello\")\n",
        "\n",
        "\n",
        "for i in range (1,11): \n",
        "                     #starting from index 1(actual number) to the 11th index\n",
        "  print(i,\"hello\")"
      ],
      "metadata": {
        "colab": {
          "base_uri": "https://localhost:8080/"
        },
        "id": "H46etwozac1n",
        "outputId": "a325681b-a84c-45b2-e755-62af072435fb"
      },
      "execution_count": 28,
      "outputs": [
        {
          "output_type": "stream",
          "name": "stdout",
          "text": [
            "1 hello\n",
            "2 hello\n",
            "3 hello\n",
            "4 hello\n",
            "5 hello\n",
            "6 hello\n",
            "7 hello\n",
            "8 hello\n",
            "9 hello\n",
            "10 hello\n",
            "1 hello\n",
            "2 hello\n",
            "3 hello\n",
            "4 hello\n",
            "5 hello\n",
            "6 hello\n",
            "7 hello\n",
            "8 hello\n",
            "9 hello\n",
            "10 hello\n"
          ]
        }
      ]
    },
    {
      "cell_type": "code",
      "source": [
        "for i in range(3,22,2): # start, stop assuming start at zero, step\n",
        "                        # the 22th index is 21， 只能到21\n",
        "  print(i)\n",
        "\n",
        "for i in range(3,23,2): # the 23th index is 22, 偶数不在范围， 所以是21\n",
        "  print(i)\n",
        "\n",
        "\n",
        "for i in range(80, 23, -2):\n",
        "  print(i)"
      ],
      "metadata": {
        "colab": {
          "base_uri": "https://localhost:8080/"
        },
        "id": "nk6szaMTbGhj",
        "outputId": "8b9b9204-522e-4d14-a3bb-dfeb576f0c59"
      },
      "execution_count": 32,
      "outputs": [
        {
          "output_type": "stream",
          "name": "stdout",
          "text": [
            "3\n",
            "5\n",
            "7\n",
            "9\n",
            "11\n",
            "13\n",
            "15\n",
            "17\n",
            "19\n",
            "21\n",
            "3\n",
            "5\n",
            "7\n",
            "9\n",
            "11\n",
            "13\n",
            "15\n",
            "17\n",
            "19\n",
            "21\n",
            "80\n",
            "78\n",
            "76\n",
            "74\n",
            "72\n",
            "70\n",
            "68\n",
            "66\n",
            "64\n",
            "62\n",
            "60\n",
            "58\n",
            "56\n",
            "54\n",
            "52\n",
            "50\n",
            "48\n",
            "46\n",
            "44\n",
            "42\n",
            "40\n",
            "38\n",
            "36\n",
            "34\n",
            "32\n",
            "30\n",
            "28\n",
            "26\n",
            "24\n"
          ]
        }
      ]
    },
    {
      "cell_type": "code",
      "source": [
        "message = \"alan mcgregor for code division\"\n",
        "for letter in message:\n",
        "  print(letter,\"-\")\n"
      ],
      "metadata": {
        "colab": {
          "base_uri": "https://localhost:8080/"
        },
        "id": "DB1k-y2VgCAF",
        "outputId": "8ca9eb29-f4e1-487b-df29-b81a5399cac8"
      },
      "execution_count": 34,
      "outputs": [
        {
          "output_type": "stream",
          "name": "stdout",
          "text": [
            "a -\n",
            "l -\n",
            "a -\n",
            "n -\n",
            "  -\n",
            "m -\n",
            "c -\n",
            "g -\n",
            "r -\n",
            "e -\n",
            "g -\n",
            "o -\n",
            "r -\n",
            "  -\n",
            "f -\n",
            "o -\n",
            "r -\n",
            "  -\n",
            "c -\n",
            "o -\n",
            "d -\n",
            "e -\n",
            "  -\n",
            "d -\n",
            "i -\n",
            "v -\n",
            "i -\n",
            "s -\n",
            "i -\n",
            "o -\n",
            "n -\n"
          ]
        }
      ]
    },
    {
      "cell_type": "code",
      "source": [
        "table = int(input(\"which times table would you like to see? \"))\n",
        "loops = int(input(\"which number should I stop at? \"))\n",
        "\n",
        "for i in range (1,loops+1):\n",
        "  print(table,\"x\",i, \"=\", table*i)\n"
      ],
      "metadata": {
        "colab": {
          "base_uri": "https://localhost:8080/"
        },
        "id": "cf8CJkibgt-b",
        "outputId": "18477571-2d6b-4759-cd10-1e0a9fd84b70"
      },
      "execution_count": 37,
      "outputs": [
        {
          "output_type": "stream",
          "name": "stdout",
          "text": [
            "which times table would you like to see? 9\n",
            "which number should I stop at? 12\n",
            "9 x 1 = 9\n",
            "9 x 2 = 18\n",
            "9 x 3 = 27\n",
            "9 x 4 = 36\n",
            "9 x 5 = 45\n",
            "9 x 6 = 54\n",
            "9 x 7 = 63\n",
            "9 x 8 = 72\n",
            "9 x 9 = 81\n",
            "9 x 10 = 90\n",
            "9 x 11 = 99\n",
            "9 x 12 = 108\n"
          ]
        }
      ]
    },
    {
      "cell_type": "markdown",
      "source": [
        "#List\n",
        "## - always uses square brackets []\n",
        "## - nutable, which means they can be changed and have variable sizes\n",
        "## - contents can be repeated and changeable\n"
      ],
      "metadata": {
        "id": "14-jDPxJKl3l"
      }
    },
    {
      "cell_type": "code",
      "execution_count": 1,
      "metadata": {
        "colab": {
          "base_uri": "https://localhost:8080/"
        },
        "id": "P18SiKFHCJMA",
        "outputId": "086eb9d5-dbcd-4e19-d32b-992c42ed9a88"
      },
      "outputs": [
        {
          "output_type": "stream",
          "name": "stdout",
          "text": [
            "['apple', 'banana', 'cherry']\n",
            "melon\n",
            "['melon', 'mango']\n"
          ]
        }
      ],
      "source": [
        "fruitList=[\"apple\", \"banana\", \"cherry\", \"melon\", \"mango\"]\n",
        "print(fruitList[:3])\n",
        "print(fruitList[3])\n",
        "print(fruitList[3:])"
      ]
    },
    {
      "cell_type": "code",
      "source": [
        "fruitList=[\"apple\", \"banana\", \"cherry\", \"melon\", \"mango\"]\n",
        "fruitList.append(\"plum\")\n",
        "print(fruitList)\n",
        "\n",
        "fruitList.insert(2,\"plum\")\n",
        "print(fruitList)\n",
        "\n",
        "fruitList.remove(\"cherry\")\n",
        "print(fruitList)\n",
        "\n",
        "fruitList.pop(2)    #remove the specific item, 2 is the third one, so cherry is removed\n",
        "print(fruitList)\n"
      ],
      "metadata": {
        "colab": {
          "base_uri": "https://localhost:8080/"
        },
        "id": "UTwXmN8PIE7D",
        "outputId": "7b7b06e9-4929-443a-ea8a-f2780dc3bc6b"
      },
      "execution_count": 5,
      "outputs": [
        {
          "output_type": "stream",
          "name": "stdout",
          "text": [
            "['apple', 'banana', 'cherry', 'melon', 'mango', 'plum']\n",
            "['apple', 'banana', 'plum', 'cherry', 'melon', 'mango', 'plum']\n",
            "['apple', 'banana', 'plum', 'melon', 'mango', 'plum']\n",
            "['apple', 'banana', 'melon', 'mango', 'plum']\n"
          ]
        }
      ]
    },
    {
      "cell_type": "code",
      "source": [
        "fruitList=[\"apple\", \"banana\", \"cherry\", \"melon\", \"mango\"]\n",
        "\n",
        "print(len(fruitList))"
      ],
      "metadata": {
        "colab": {
          "base_uri": "https://localhost:8080/"
        },
        "id": "KuHsIGvjJYI2",
        "outputId": "47c2ea96-ed2d-4be0-b7ec-073df0c0eb4d"
      },
      "execution_count": 6,
      "outputs": [
        {
          "output_type": "stream",
          "name": "stdout",
          "text": [
            "5\n"
          ]
        }
      ]
    },
    {
      "cell_type": "markdown",
      "source": [
        "# Tuple\n",
        "## - always uses round brackets ()\n",
        "## - immutable, which means they are fixed and cannot be modified\n",
        "## - ordered and unchangeable "
      ],
      "metadata": {
        "id": "wt9c9j_xJiOD"
      }
    },
    {
      "cell_type": "code",
      "source": [
        "fruitTuple=(\"apple\", \"banana\", \"cherry\", \"melon\", \"mango\")\n",
        "\n",
        "print(fruitTuple)\n",
        "print(fruitTuple[2])\n",
        "\n",
        "fruitTuple.append(\"plum\")\n",
        "print(fruitTuple)"
      ],
      "metadata": {
        "colab": {
          "base_uri": "https://localhost:8080/",
          "height": 253
        },
        "id": "Gpe_Ck_bJlfx",
        "outputId": "4d974f56-1d27-41c2-cfd6-b878637c3196"
      },
      "execution_count": 12,
      "outputs": [
        {
          "output_type": "stream",
          "name": "stdout",
          "text": [
            "('apple', 'banana', 'cherry', 'melon', 'mango')\n",
            "cherry\n"
          ]
        },
        {
          "output_type": "error",
          "ename": "AttributeError",
          "evalue": "ignored",
          "traceback": [
            "\u001b[0;31m---------------------------------------------------------------------------\u001b[0m",
            "\u001b[0;31mAttributeError\u001b[0m                            Traceback (most recent call last)",
            "\u001b[0;32m<ipython-input-12-95d46db8064a>\u001b[0m in \u001b[0;36m<module>\u001b[0;34m()\u001b[0m\n\u001b[1;32m      4\u001b[0m \u001b[0mprint\u001b[0m\u001b[0;34m(\u001b[0m\u001b[0mfruitTuple\u001b[0m\u001b[0;34m[\u001b[0m\u001b[0;36m2\u001b[0m\u001b[0;34m]\u001b[0m\u001b[0;34m)\u001b[0m\u001b[0;34m\u001b[0m\u001b[0;34m\u001b[0m\u001b[0m\n\u001b[1;32m      5\u001b[0m \u001b[0;34m\u001b[0m\u001b[0m\n\u001b[0;32m----> 6\u001b[0;31m \u001b[0mfruitTuple\u001b[0m\u001b[0;34m.\u001b[0m\u001b[0mappend\u001b[0m\u001b[0;34m(\u001b[0m\u001b[0;34m\"plum\"\u001b[0m\u001b[0;34m)\u001b[0m\u001b[0;34m\u001b[0m\u001b[0;34m\u001b[0m\u001b[0m\n\u001b[0m\u001b[1;32m      7\u001b[0m \u001b[0mprint\u001b[0m\u001b[0;34m(\u001b[0m\u001b[0mfruitTuple\u001b[0m\u001b[0;34m)\u001b[0m\u001b[0;34m\u001b[0m\u001b[0;34m\u001b[0m\u001b[0m\n",
            "\u001b[0;31mAttributeError\u001b[0m: 'tuple' object has no attribute 'append'"
          ]
        }
      ]
    },
    {
      "cell_type": "markdown",
      "source": [
        "#Dictionaries\n",
        "\n",
        "## - always uses curly braces { } to create new dictionaries\n",
        "## - square brackets[ ], comma-separated key/value pairs\n"
      ],
      "metadata": {
        "id": "zQqQbzAtSTxR"
      }
    },
    {
      "cell_type": "code",
      "source": [
        "lecturer= {\"firstname\":\"Alan\", \"surname\":\"McGregor\",\"location\":\"Glasgow\",\n",
        "           \"height in metres\":1.85, \"age\": 27}\n",
        "\n",
        "print(lecturer)\n",
        "print(type(lecturer))\n",
        "print(lecturer[\"location\"])\n",
        "\n",
        "\n",
        "#another way to define a dictionary\n",
        "lecturer2=dict(firsname=\"Frank\",location=\"Glasgow\") \n",
        "\n",
        "\n",
        "print(lecturer2)\n",
        "\n",
        "lecturer2[\"surname\"]=\"Duffy\"   #add something\n",
        "lecturer2[\"age\"]=45\n",
        "print(lecturer2)\n",
        "\n",
        "print(lecturer2[\"age\"])\n"
      ],
      "metadata": {
        "colab": {
          "base_uri": "https://localhost:8080/"
        },
        "id": "Y2NS8tvkJ-P-",
        "outputId": "d178dcb2-5571-48c0-b05b-8169f2e9ad2d"
      },
      "execution_count": 15,
      "outputs": [
        {
          "output_type": "stream",
          "name": "stdout",
          "text": [
            "{'firstname': 'Alan', 'surname': 'McGregor', 'location': 'Glasgow', 'height in metres': 1.85, 'age': 27}\n",
            "<class 'dict'>\n",
            "Glasgow\n",
            "{'firsname': 'Frank', 'location': 'Glasgow'}\n",
            "{'firsname': 'Frank', 'location': 'Glasgow', 'surname': 'Duffy', 'age': 45}\n",
            "45\n"
          ]
        }
      ]
    },
    {
      "cell_type": "code",
      "source": [
        "lecturer= {\"firstname\":\"Alan\", \"surname\":\"McGregor\",\"location\":\"Glasgow\",\n",
        "           \"height in metres\":1.85, \"age\": 27}\n",
        "\n",
        "for key in lecturer.keys():        #looking for each item\n",
        "    print(key,\"=\",lecturer[key])\n"
      ],
      "metadata": {
        "colab": {
          "base_uri": "https://localhost:8080/"
        },
        "id": "YdfzoThJVAKl",
        "outputId": "0e5d36d1-388e-4c53-f091-15669c88cccc"
      },
      "execution_count": 17,
      "outputs": [
        {
          "output_type": "stream",
          "name": "stdout",
          "text": [
            "firstname = Alan\n",
            "surname = McGregor\n",
            "location = Glasgow\n",
            "height in metres = 1.85\n",
            "age = 27\n"
          ]
        }
      ]
    },
    {
      "cell_type": "code",
      "source": [
        "lecturer= {\"firstname\":\"Alan\", \"surname\":\"McGregor\",\"location\":\"Glasgow\",\n",
        "           \"height in metres\":1.85, \"age\": 27}\n",
        "print(dir(lecturer))  #direction"
      ],
      "metadata": {
        "colab": {
          "base_uri": "https://localhost:8080/"
        },
        "id": "77UgxB6WVymD",
        "outputId": "9e637e19-5d9a-4c8e-f4ee-a5cc705c866c"
      },
      "execution_count": 18,
      "outputs": [
        {
          "output_type": "stream",
          "name": "stdout",
          "text": [
            "['__class__', '__contains__', '__delattr__', '__delitem__', '__dir__', '__doc__', '__eq__', '__format__', '__ge__', '__getattribute__', '__getitem__', '__gt__', '__hash__', '__init__', '__init_subclass__', '__iter__', '__le__', '__len__', '__lt__', '__ne__', '__new__', '__reduce__', '__reduce_ex__', '__repr__', '__setattr__', '__setitem__', '__sizeof__', '__str__', '__subclasshook__', 'clear', 'copy', 'fromkeys', 'get', 'items', 'keys', 'pop', 'popitem', 'setdefault', 'update', 'values']\n"
          ]
        }
      ]
    }
  ]
}